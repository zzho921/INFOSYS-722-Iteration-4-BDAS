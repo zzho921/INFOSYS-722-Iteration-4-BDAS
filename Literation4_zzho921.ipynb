{
 "cells": [
  {
   "cell_type": "code",
   "execution_count": 81,
   "metadata": {},
   "outputs": [],
   "source": [
    "import findspark\n",
    "findspark.init('/home/ubuntu/spark-2.1.1-bin-hadoop2.7')\n",
    "import pyspark\n",
    "from pyspark.sql import SparkSession\n",
    "spark = SparkSession.builder.appName('INFOSYS722_Lteration4_zzho921').getOrCreate()"
   ]
  },
  {
   "cell_type": "code",
   "execution_count": 82,
   "metadata": {},
   "outputs": [
    {
     "name": "stdout",
     "output_type": "stream",
     "text": [
      "+---+------+---------------+----------------+--------------------+------------------------+--------------------------+--------------+-------+--------------------------+-------+\n",
      "|Age|Gender|Total_Bilirubin|Direct_Bilirubin|Alkaline_Phosphotase|Alamine_Aminotransferase|Aspartate_Aminotransferase|Total_Protiens|Albumin|Albumin_and_Globulin_Ratio|Dataset|\n",
      "+---+------+---------------+----------------+--------------------+------------------------+--------------------------+--------------+-------+--------------------------+-------+\n",
      "| 65|Female|            0.7|             0.1|                 187|                      16|                        18|           6.8|    3.3|                       0.9|      1|\n",
      "| 62|  Male|           10.9|             5.5|                 699|                      64|                       100|           7.5|    3.2|                      0.74|      1|\n",
      "| 62|  Male|            7.3|             4.1|                 490|                      60|                        68|           7.0|    3.3|                      0.89|      1|\n",
      "| 58|  Male|            1.0|             0.4|                 182|                      14|                        20|           6.8|    3.4|                       1.0|      1|\n",
      "| 72|  Male|            3.9|             2.0|                 195|                      27|                        59|           7.3|    2.4|                       0.4|      1|\n",
      "| 46|  Male|            1.8|             0.7|                 208|                      19|                        14|           7.6|    4.4|                       1.3|      1|\n",
      "| 26|Female|            0.9|             0.2|                 154|                      16|                        12|           7.0|    3.5|                       1.0|      1|\n",
      "| 29|Female|            0.9|             0.3|                 202|                      14|                        11|           6.7|    3.6|                       1.1|      1|\n",
      "| 17|  Male|            0.9|             0.3|                 202|                      22|                        19|           7.4|    4.1|                       1.2|      2|\n",
      "| 55|  Male|            0.7|             0.2|                 290|                      53|                        58|           6.8|    3.4|                       1.0|      1|\n",
      "| 57|  Male|            0.6|             0.1|                 210|                      51|                        59|           5.9|    2.7|                       0.8|      1|\n",
      "| 72|  Male|            2.7|             1.3|                 260|                      31|                        56|           7.4|    3.0|                       0.6|      1|\n",
      "| 64|  Male|            0.9|             0.3|                 310|                      61|                        58|           7.0|    3.4|                       0.9|      2|\n",
      "| 74|Female|            1.1|             0.4|                 214|                      22|                        30|           8.1|    4.1|                       1.0|      1|\n",
      "| 61|  Male|            0.7|             0.2|                 145|                      53|                        41|           5.8|    2.7|                      0.87|      1|\n",
      "| 25|  Male|            0.6|             0.1|                 183|                      91|                        53|           5.5|    2.3|                       0.7|      2|\n",
      "| 38|  Male|            1.8|             0.8|                 342|                     168|                       441|           7.6|    4.4|                       1.3|      1|\n",
      "| 33|  Male|            1.6|             0.5|                 165|                      15|                        23|           7.3|    3.5|                      0.92|      2|\n",
      "| 40|Female|            0.9|             0.3|                 293|                     232|                       245|           6.8|    3.1|                       0.8|      1|\n",
      "| 40|Female|            0.9|             0.3|                 293|                     232|                       245|           6.8|    3.1|                       0.8|      1|\n",
      "+---+------+---------------+----------------+--------------------+------------------------+--------------------------+--------------+-------+--------------------------+-------+\n",
      "only showing top 20 rows\n",
      "\n"
     ]
    }
   ],
   "source": [
    "#Use spark to read data.\n",
    "data_ilp = spark.read.csv('indian_liver_patient.csv', header=True, inferSchema=True)\n",
    "data_ilp.show()"
   ]
  },
  {
   "cell_type": "code",
   "execution_count": 83,
   "metadata": {},
   "outputs": [
    {
     "data": {
      "text/plain": [
       "['Age',\n",
       " 'Gender',\n",
       " 'Total_Bilirubin',\n",
       " 'Direct_Bilirubin',\n",
       " 'Alkaline_Phosphotase',\n",
       " 'Alamine_Aminotransferase',\n",
       " 'Aspartate_Aminotransferase',\n",
       " 'Total_Protiens',\n",
       " 'Albumin',\n",
       " 'Albumin_and_Globulin_Ratio',\n",
       " 'Dataset']"
      ]
     },
     "execution_count": 83,
     "metadata": {},
     "output_type": "execute_result"
    }
   ],
   "source": [
    "#View the columns of the data.\n",
    "data_ilp.columns"
   ]
  },
  {
   "cell_type": "code",
   "execution_count": 84,
   "metadata": {},
   "outputs": [
    {
     "data": {
      "text/plain": [
       "(583, 11)"
      ]
     },
     "execution_count": 84,
     "metadata": {},
     "output_type": "execute_result"
    }
   ],
   "source": [
    "#View the size of the data.\n",
    "data_ilp.count(),len(data_ilp.columns)"
   ]
  },
  {
   "cell_type": "code",
   "execution_count": 85,
   "metadata": {},
   "outputs": [
    {
     "name": "stdout",
     "output_type": "stream",
     "text": [
      "root\n",
      " |-- Age: integer (nullable = true)\n",
      " |-- Gender: string (nullable = true)\n",
      " |-- Total_Bilirubin: double (nullable = true)\n",
      " |-- Direct_Bilirubin: double (nullable = true)\n",
      " |-- Alkaline_Phosphotase: integer (nullable = true)\n",
      " |-- Alamine_Aminotransferase: integer (nullable = true)\n",
      " |-- Aspartate_Aminotransferase: integer (nullable = true)\n",
      " |-- Total_Protiens: double (nullable = true)\n",
      " |-- Albumin: double (nullable = true)\n",
      " |-- Albumin_and_Globulin_Ratio: double (nullable = true)\n",
      " |-- Dataset: integer (nullable = true)\n",
      "\n"
     ]
    }
   ],
   "source": [
    "#View the format of each attribute column of the data.\n",
    "data_ilp.printSchema()"
   ]
  },
  {
   "cell_type": "code",
   "execution_count": 86,
   "metadata": {},
   "outputs": [
    {
     "name": "stdout",
     "output_type": "stream",
     "text": [
      "+-------+------------------+------+-----------------+------------------+--------------------+------------------------+--------------------------+------------------+-----------------+--------------------------+------------------+\n",
      "|summary|               Age|Gender|  Total_Bilirubin|  Direct_Bilirubin|Alkaline_Phosphotase|Alamine_Aminotransferase|Aspartate_Aminotransferase|    Total_Protiens|          Albumin|Albumin_and_Globulin_Ratio|           Dataset|\n",
      "+-------+------------------+------+-----------------+------------------+--------------------+------------------------+--------------------------+------------------+-----------------+--------------------------+------------------+\n",
      "|  count|               583|   583|              583|               583|                 583|                     583|                       583|               583|              583|                       579|               583|\n",
      "|   mean| 44.74614065180103|  null|3.298799313893652|1.4861063464837074|  290.57632933104634|       80.71355060034305|        109.91080617495712| 6.483190394511151| 3.14185248713551|        0.9470639032815201|1.2864493996569468|\n",
      "| stddev|16.189833304694375|  null|6.209521726180151| 2.808497617658965|  242.93798917934402|       182.6203560342026|         288.9185290517341|1.0854514840234648|0.795518805964026|       0.31959210767237056|0.4524901515081166|\n",
      "|    min|                 4|Female|              0.4|               0.1|                  63|                      10|                        10|               2.7|              0.9|                       0.3|                 1|\n",
      "|    max|                90|  Male|             75.0|              19.7|                2110|                    2000|                      4929|               9.6|              5.5|                       2.8|                 2|\n",
      "+-------+------------------+------+-----------------+------------------+--------------------+------------------------+--------------------------+------------------+-----------------+--------------------------+------------------+\n",
      "\n"
     ]
    }
   ],
   "source": [
    "#View the data mean value of each attribute of the data, min, max, etc.\n",
    "data_ilp.describe().show()"
   ]
  },
  {
   "cell_type": "code",
   "execution_count": 87,
   "metadata": {},
   "outputs": [
    {
     "name": "stdout",
     "output_type": "stream",
     "text": [
      "+-------+------------------+\n",
      "|summary|               Age|\n",
      "+-------+------------------+\n",
      "|  count|               583|\n",
      "|   mean| 44.74614065180103|\n",
      "| stddev|16.189833304694375|\n",
      "|    min|                 4|\n",
      "|    max|                90|\n",
      "+-------+------------------+\n",
      "\n"
     ]
    }
   ],
   "source": [
    "#View summary of age attributes.\n",
    "data_ilp.select('Age').describe().show()"
   ]
  },
  {
   "cell_type": "code",
   "execution_count": 88,
   "metadata": {},
   "outputs": [
    {
     "name": "stdout",
     "output_type": "stream",
     "text": [
      "+-----------+--------------+-----------------------+------------------------+----------------------------+--------------------------------+----------------------------------+----------------------+---------------+----------------------------------+---------------+\n",
      "|Age_missing|Gender_missing|Total_Bilirubin_missing|Direct_Bilirubin_missing|Alkaline_Phosphotase_missing|Alamine_Aminotransferase_missing|Aspartate_Aminotransferase_missing|Total_Protiens_missing|Albumin_missing|Albumin_and_Globulin_Ratio_missing|Dataset_missing|\n",
      "+-----------+--------------+-----------------------+------------------------+----------------------------+--------------------------------+----------------------------------+----------------------+---------------+----------------------------------+---------------+\n",
      "|        0.0|           0.0|                    0.0|                     0.0|                         0.0|                             0.0|                               0.0|                   0.0|            0.0|              0.006861063464837058|            0.0|\n",
      "+-----------+--------------+-----------------------+------------------------+----------------------------+--------------------------------+----------------------------------+----------------------+---------------+----------------------------------+---------------+\n",
      "\n"
     ]
    }
   ],
   "source": [
    "#View the proportion of missing values in the data.\n",
    "import pyspark.sql.functions as fn\n",
    "data_ilp.agg(*[(1-(fn.count(c) /fn.count('*'))).alias(c+'_missing') for c in data_ilp.columns]).show()"
   ]
  },
  {
   "cell_type": "code",
   "execution_count": 89,
   "metadata": {},
   "outputs": [
    {
     "data": {
      "text/plain": [
       "4"
      ]
     },
     "execution_count": 89,
     "metadata": {},
     "output_type": "execute_result"
    }
   ],
   "source": [
    "missing_num = data_ilp[data_ilp['Albumin_and_Globulin_Ratio'].isNull()]\n",
    "missing_num.count()"
   ]
  },
  {
   "cell_type": "code",
   "execution_count": 91,
   "metadata": {},
   "outputs": [],
   "source": [
    "#Convert data to pandas dataframe format\n",
    "pandas_df = data_ilp.toPandas()"
   ]
  },
  {
   "cell_type": "code",
   "execution_count": 92,
   "metadata": {},
   "outputs": [
    {
     "name": "stdout",
     "output_type": "stream",
     "text": [
      "1    441\n",
      "0    142\n",
      "Name: Gender, dtype: int64\n"
     ]
    }
   ],
   "source": [
    "#Change the male and female of gender attribute to 0 and 1.\n",
    "import numpy as np\n",
    "#Label gender attributes and change data types.\n",
    "class_mapping1 = {label:idx for idx,label in enumerate(np.unique(pandas_df['Gender']))}\n",
    "pandas_df['Gender'] = pandas_df['Gender'].map(class_mapping1)\n",
    "print(pandas_df['Gender'].value_counts())"
   ]
  },
  {
   "cell_type": "code",
   "execution_count": 93,
   "metadata": {},
   "outputs": [
    {
     "name": "stdout",
     "output_type": "stream",
     "text": [
      "root\n",
      " |-- Age: double (nullable = true)\n",
      " |-- Gender: double (nullable = true)\n",
      " |-- Total_Bilirubin: double (nullable = true)\n",
      " |-- Direct_Bilirubin: double (nullable = true)\n",
      " |-- Alkaline_Phosphotase: double (nullable = true)\n",
      " |-- Alamine_Aminotransferase: double (nullable = true)\n",
      " |-- Aspartate_Aminotransferase: double (nullable = true)\n",
      " |-- Total_Protiens: double (nullable = true)\n",
      " |-- Albumin: double (nullable = true)\n",
      " |-- Albumin_and_Globulin_Ratio: double (nullable = true)\n",
      " |-- Dataset: double (nullable = true)\n",
      "\n"
     ]
    }
   ],
   "source": [
    "#Convert data back to spark dataframe format.\n",
    "values = pandas_df.values.tolist()\n",
    "columns = pandas_df.columns.tolist()\n",
    "data_ilp_temp = spark.createDataFrame(values, columns)\n",
    "data_ilp_temp.printSchema()"
   ]
  },
  {
   "cell_type": "code",
   "execution_count": 94,
   "metadata": {},
   "outputs": [
    {
     "data": {
      "text/plain": [
       "583"
      ]
     },
     "execution_count": 94,
     "metadata": {},
     "output_type": "execute_result"
    }
   ],
   "source": [
    "#Deal with missing values in data.\n",
    "data_ilp_temp.count()"
   ]
  },
  {
   "cell_type": "code",
   "execution_count": 95,
   "metadata": {},
   "outputs": [
    {
     "data": {
      "text/plain": [
       "579"
      ]
     },
     "execution_count": 95,
     "metadata": {},
     "output_type": "execute_result"
    }
   ],
   "source": [
    "data_ilp_temp.na.drop().count()"
   ]
  },
  {
   "cell_type": "code",
   "execution_count": 96,
   "metadata": {},
   "outputs": [
    {
     "name": "stdout",
     "output_type": "stream",
     "text": [
      "+-----------+--------------+-----------------------+------------------------+----------------------------+--------------------------------+----------------------------------+----------------------+---------------+----------------------------------+---------------+\n",
      "|Age_missing|Gender_missing|Total_Bilirubin_missing|Direct_Bilirubin_missing|Alkaline_Phosphotase_missing|Alamine_Aminotransferase_missing|Aspartate_Aminotransferase_missing|Total_Protiens_missing|Albumin_missing|Albumin_and_Globulin_Ratio_missing|Dataset_missing|\n",
      "+-----------+--------------+-----------------------+------------------------+----------------------------+--------------------------------+----------------------------------+----------------------+---------------+----------------------------------+---------------+\n",
      "|        0.0|           0.0|                    0.0|                     0.0|                         0.0|                             0.0|                               0.0|                   0.0|            0.0|                               0.0|            0.0|\n",
      "+-----------+--------------+-----------------------+------------------------+----------------------------+--------------------------------+----------------------------------+----------------------+---------------+----------------------------------+---------------+\n",
      "\n"
     ]
    }
   ],
   "source": [
    "data_ilp_c = data_ilp_temp.na.drop()\n",
    "data_ilp_c.agg(*[(1-(fn.count(c) /fn.count('*'))).alias(c+'_missing') for c in data_ilp_c.columns]).show()"
   ]
  },
  {
   "cell_type": "code",
   "execution_count": 97,
   "metadata": {},
   "outputs": [
    {
     "data": {
      "text/plain": [
       "(221, 11)"
      ]
     },
     "execution_count": 97,
     "metadata": {},
     "output_type": "execute_result"
    }
   ],
   "source": [
    "data_1 = spark.read.csv(\"indian_liver_patient_2.csv\",inferSchema =True,header=True)\n",
    "#View the size of the data.\n",
    "data_1.count(),len(data_1.columns)"
   ]
  },
  {
   "cell_type": "code",
   "execution_count": 98,
   "metadata": {},
   "outputs": [
    {
     "data": {
      "text/plain": [
       "(362, 11)"
      ]
     },
     "execution_count": 98,
     "metadata": {},
     "output_type": "execute_result"
    }
   ],
   "source": [
    "data_2 = spark.read.csv(\"indian_liver_patient_3.csv\",inferSchema =True,header=True)\n",
    "#View the size of the data.\n",
    "data_2.count(),len(data_2.columns)"
   ]
  },
  {
   "cell_type": "code",
   "execution_count": 99,
   "metadata": {},
   "outputs": [
    {
     "data": {
      "text/plain": [
       "(583, 11)"
      ]
     },
     "execution_count": 99,
     "metadata": {},
     "output_type": "execute_result"
    }
   ],
   "source": [
    "data_union = data_1.union(data_2)\n",
    "#View the size of the data.\n",
    "data_union.count(),len(data_union.columns)"
   ]
  },
  {
   "cell_type": "code",
   "execution_count": 100,
   "metadata": {},
   "outputs": [
    {
     "name": "stdout",
     "output_type": "stream",
     "text": [
      "+----+------+---------------+----------------+--------------------+------------------------+--------------------------+--------------+-------+--------------------------+-------+\n",
      "| Age|Gender|Total_Bilirubin|Direct_Bilirubin|Alkaline_Phosphotase|Alamine_Aminotransferase|Aspartate_Aminotransferase|Total_Protiens|Albumin|Albumin_and_Globulin_Ratio|Dataset|\n",
      "+----+------+---------------+----------------+--------------------+------------------------+--------------------------+--------------+-------+--------------------------+-------+\n",
      "| 4.0|   1.0|            0.9|             0.2|               348.0|                    30.0|                      34.0|           8.0|    4.0|                       1.0|    2.0|\n",
      "| 4.0|   1.0|            0.8|             0.2|               460.0|                   152.0|                     231.0|           6.5|    3.2|                       0.9|    2.0|\n",
      "| 6.0|   1.0|            0.6|             0.1|               289.0|                    38.0|                      30.0|           4.8|    2.0|                       0.7|    2.0|\n",
      "| 7.0|   0.0|           27.2|            11.8|              1420.0|                   790.0|                    1050.0|           6.1|    2.0|                       0.4|    1.0|\n",
      "| 7.0|   1.0|            0.5|             0.1|               352.0|                    28.0|                      51.0|           7.9|    4.2|                       1.1|    2.0|\n",
      "| 8.0|   0.0|            0.9|             0.2|               401.0|                    25.0|                      58.0|           7.5|    3.4|                       0.8|    1.0|\n",
      "|10.0|   0.0|            0.8|             0.1|               395.0|                    25.0|                      75.0|           7.6|    3.6|                       0.9|    1.0|\n",
      "|11.0|   1.0|            0.7|             0.1|               592.0|                    26.0|                      29.0|           7.1|    4.2|                       1.4|    2.0|\n",
      "|12.0|   1.0|            0.8|             0.2|               302.0|                    47.0|                      67.0|           6.7|    3.5|                       1.1|    2.0|\n",
      "|12.0|   1.0|            1.0|             0.2|               719.0|                   157.0|                     108.0|           7.2|    3.7|                       1.0|    1.0|\n",
      "|13.0|   1.0|            0.6|             0.1|               320.0|                    28.0|                      56.0|           7.2|    3.6|                       1.0|    2.0|\n",
      "|13.0|   0.0|            0.7|             0.2|               350.0|                    17.0|                      24.0|           7.4|    4.0|                       1.1|    1.0|\n",
      "|13.0|   1.0|            1.5|             0.5|               575.0|                    29.0|                      24.0|           7.9|    3.9|                       0.9|    1.0|\n",
      "|13.0|   0.0|            0.7|             0.1|               182.0|                    24.0|                      19.0|           8.9|    4.9|                       1.2|    1.0|\n",
      "|14.0|   1.0|            1.4|             0.5|               269.0|                    58.0|                      45.0|           6.7|    3.9|                       1.4|    1.0|\n",
      "|14.0|   1.0|            0.9|             0.3|               310.0|                    21.0|                      16.0|           8.1|    4.2|                       1.0|    2.0|\n",
      "|15.0|   1.0|            0.8|             0.2|               380.0|                    25.0|                      66.0|           6.1|    3.7|                       1.5|    1.0|\n",
      "|16.0|   1.0|            0.7|             0.2|               418.0|                    28.0|                      35.0|           7.2|    4.1|                       1.3|    2.0|\n",
      "|16.0|   1.0|            7.7|             4.1|               268.0|                   213.0|                     168.0|           7.1|    4.0|                       1.2|    1.0|\n",
      "|16.0|   1.0|            2.6|             1.2|               236.0|                   131.0|                      90.0|           5.4|    2.6|                       0.9|    1.0|\n",
      "+----+------+---------------+----------------+--------------------+------------------------+--------------------------+--------------+-------+--------------------------+-------+\n",
      "only showing top 20 rows\n",
      "\n"
     ]
    }
   ],
   "source": [
    "data_ilp_2 = data_ilp_c.orderBy('Age',ascending=True)\n",
    "data_ilp_2.show()"
   ]
  },
  {
   "cell_type": "code",
   "execution_count": 102,
   "metadata": {},
   "outputs": [],
   "source": [
    "#Convert data to pandas dataframe format\n",
    "pandas_df_2 = data_ilp_2.toPandas()"
   ]
  },
  {
   "cell_type": "code",
   "execution_count": 103,
   "metadata": {},
   "outputs": [
    {
     "name": "stdout",
     "output_type": "stream",
     "text": [
      "Age                          -0.133164\n",
      "Gender                       -0.081349\n",
      "Total_Bilirubin              -0.220218\n",
      "Direct_Bilirubin             -0.246273\n",
      "Alkaline_Phosphotase         -0.183363\n",
      "Alamine_Aminotransferase     -0.163117\n",
      "Aspartate_Aminotransferase   -0.151834\n",
      "Total_Protiens                0.033614\n",
      "Albumin                       0.159770\n",
      "Albumin_and_Globulin_Ratio    0.163131\n",
      "Dataset                       1.000000\n",
      "Name: Dataset, dtype: float64\n"
     ]
    }
   ],
   "source": [
    "print(pandas_df_2.corr()[\"Dataset\"])"
   ]
  },
  {
   "cell_type": "code",
   "execution_count": 104,
   "metadata": {},
   "outputs": [],
   "source": [
    "final_data_temp = pandas_df_2.drop([\"Total_Bilirubin\",\"Direct_Bilirubin\",\"Alkaline_Phosphotase\",\"Alamine_Aminotransferase\"],axis = 1)"
   ]
  },
  {
   "cell_type": "code",
   "execution_count": 105,
   "metadata": {},
   "outputs": [
    {
     "name": "stdout",
     "output_type": "stream",
     "text": [
      "root\n",
      " |-- Age: double (nullable = true)\n",
      " |-- Gender: double (nullable = true)\n",
      " |-- Aspartate_Aminotransferase: double (nullable = true)\n",
      " |-- Total_Protiens: double (nullable = true)\n",
      " |-- Albumin: double (nullable = true)\n",
      " |-- Albumin_and_Globulin_Ratio: double (nullable = true)\n",
      " |-- Dataset: double (nullable = true)\n",
      "\n"
     ]
    }
   ],
   "source": [
    "#Convert data back to spark dataframe format.\n",
    "values = final_data_temp.values.tolist()\n",
    "columns = final_data_temp.columns.tolist()\n",
    "data_ilp_temp_2 = spark.createDataFrame(values, columns)\n",
    "data_ilp_temp_2.printSchema()"
   ]
  },
  {
   "cell_type": "code",
   "execution_count": 106,
   "metadata": {},
   "outputs": [],
   "source": [
    "#Convert data to pandas dataframe format\n",
    "pandas_df_3 = data_ilp_temp_2.toPandas()"
   ]
  },
  {
   "cell_type": "code",
   "execution_count": 107,
   "metadata": {},
   "outputs": [],
   "source": [
    "final_data = 1.0*(pandas_df_3 - pandas_df_3.mean())/pandas_df_3.std()"
   ]
  },
  {
   "cell_type": "code",
   "execution_count": 108,
   "metadata": {},
   "outputs": [],
   "source": [
    "#Convert data back to spark dataframe format.\n",
    "values = final_data.values.tolist()\n",
    "columns = final_data.columns.tolist()\n",
    "final_data_ilp = spark.createDataFrame(values, columns)"
   ]
  },
  {
   "cell_type": "code",
   "execution_count": 109,
   "metadata": {},
   "outputs": [
    {
     "name": "stdout",
     "output_type": "stream",
     "text": [
      "+-------------------+-------------------+--------------------------+--------------------+-------------------+--------------------------+------------------+\n",
      "|                Age|             Gender|Aspartate_Aminotransferase|      Total_Protiens|            Albumin|Albumin_and_Globulin_Ratio|           Dataset|\n",
      "+-------------------+-------------------+--------------------------+--------------------+-------------------+--------------------------+------------------+\n",
      "|-2.5140501831170847| 0.5642302874813497|       -0.2636346341671258|  1.3998247524124001| 1.0844004016934279|        0.1656364329645698| 1.582642542947409|\n",
      "|-2.5140501831170847| 0.5642302874813497|       0.41602717934442085|0.016878787823424297| 0.0773950567367384|       -0.1472624077743717| 1.582642542947409|\n",
      "| -2.390759194591714| 0.5642302874813497|      -0.27743487403538053|  -1.550459972044082|-1.4331129606982962|        -0.773060089252255| 1.582642542947409|\n",
      "|-2.3291137003290285|-1.7692649728879466|         3.241626292369582| -0.3519068027336363|-1.4331129606982962|       -1.7117566114690794|-0.630763332334112|\n",
      "|-2.3291137003290285| 0.5642302874813497|      -0.20498361472704307|  1.3076283547731353| 1.3361517379326004|        0.4785352737035116| 1.582642542947409|\n",
      "| -2.267468206066343|-1.7692649728879466|      -0.18083319495759728|  0.9388427642160748| 0.3291463929759105|       -0.4601612485133132|-0.630763332334112|\n",
      "| -2.144177217540972|-1.7692649728879466|      -0.12218217551751456|  1.0310391618553396| 0.5808977292150831|       -0.1472624077743717|-0.630763332334112|\n",
      "|-2.0825317232782865| 0.5642302874813497|      -0.28088493400244424|  0.5700571736590143| 1.3361517379326004|        1.4172317959203358| 1.582642542947409|\n",
      "| -2.020886229015601| 0.5642302874813497|      -0.14978265525402407| 0.20127158310195456| 0.4550220610954968|        0.4785352737035116| 1.582642542947409|\n",
      "| -2.020886229015601| 0.5642302874813497|      -0.00833019660441285|  0.6622535712982799| 0.7067733973346694|        0.1656364329645698|-0.630763332334112|\n",
      "|-1.9592407347529155| 0.5642302874813497|      -0.18773331489172465|  0.6622535712982799| 0.5808977292150831|        0.1656364329645698| 1.582642542947409|\n",
      "|-1.9592407347529155| 0.5642302874813497|       -0.2981352338377627|  1.3076283547731353| 0.9585247335738415|       -0.1472624077743717|-0.630763332334112|\n",
      "|-1.9592407347529155|-1.7692649728879466|       -0.2981352338377627|  0.8466463665768101| 1.0844004016934279|        0.4785352737035116|-0.630763332334112|\n",
      "|-1.9592407347529155|-1.7692649728879466|      -0.31538553367308114|   2.229592331165786|  2.217281414769704|        0.7914341144424528|-0.630763332334112|\n",
      "|  -1.89759524049023| 0.5642302874813497|       -0.2256839745294252| 0.20127158310195456| 0.9585247335738415|        1.4172317959203358|-0.630763332334112|\n",
      "|  -1.89759524049023| 0.5642302874813497|      -0.32573571357427217|   1.492021150051665| 1.3361517379326004|        0.1656364329645698| 1.582642542947409|\n",
      "|-1.8359497462275447| 0.5642302874813497|      -0.15323271522108775| -0.3519068027336363| 0.7067733973346694|        1.7301306366592777|-0.630763332334112|\n",
      "| -1.774304251964859| 0.5642302874813497|       -0.2601845742000621|  0.6622535712982799| 1.2102760698130135|        1.1043329551813945| 1.582642542947409|\n",
      "| -1.774304251964859| 0.5642302874813497|       0.19867340141940845|  0.5700571736590143| 1.0844004016934279|        0.7914341144424528|-0.630763332334112|\n",
      "| -1.774304251964859| 0.5642302874813497|      -0.07043127601155924| -0.9972815862084909| -0.677858951980779|       -0.1472624077743717|-0.630763332334112|\n",
      "+-------------------+-------------------+--------------------------+--------------------+-------------------+--------------------------+------------------+\n",
      "only showing top 20 rows\n",
      "\n"
     ]
    }
   ],
   "source": [
    "final_data_ilp.show()"
   ]
  },
  {
   "cell_type": "code",
   "execution_count": null,
   "metadata": {},
   "outputs": [],
   "source": []
  },
  {
   "cell_type": "code",
   "execution_count": 110,
   "metadata": {},
   "outputs": [],
   "source": [
    "import findspark"
   ]
  },
  {
   "cell_type": "code",
   "execution_count": 111,
   "metadata": {},
   "outputs": [],
   "source": [
    "# A few things we need to do before Spark can accept the data!\n",
    "# It needs to be in the form of two columns: \"label\" and \"features\".\n",
    "# Import VectorAssembler and Vectors\n",
    "from pyspark.ml.linalg import Vectors\n",
    "from pyspark.ml.feature import VectorAssembler"
   ]
  },
  {
   "cell_type": "code",
   "execution_count": 112,
   "metadata": {},
   "outputs": [
    {
     "data": {
      "text/plain": [
       "['Age',\n",
       " 'Gender',\n",
       " 'Aspartate_Aminotransferase',\n",
       " 'Total_Protiens',\n",
       " 'Albumin',\n",
       " 'Albumin_and_Globulin_Ratio',\n",
       " 'Dataset']"
      ]
     },
     "execution_count": 112,
     "metadata": {},
     "output_type": "execute_result"
    }
   ],
   "source": [
    "final_data_ilp.columns"
   ]
  },
  {
   "cell_type": "code",
   "execution_count": 113,
   "metadata": {},
   "outputs": [],
   "source": [
    "# Combine all features into one vector named features.\n",
    "assembler = VectorAssembler(\n",
    "  inputCols=[\n",
    "      'Age',\n",
    "      'Gender',\n",
    "      'Aspartate_Aminotransferase',\n",
    "      'Total_Protiens',\n",
    "      'Albumin',\n",
    "      'Albumin_and_Globulin_Ratio'],\n",
    "       outputCol=\"features\")"
   ]
  },
  {
   "cell_type": "code",
   "execution_count": 114,
   "metadata": {},
   "outputs": [],
   "source": [
    "#transform the data. \n",
    "output = assembler.transform(data_ilp_temp_2)"
   ]
  },
  {
   "cell_type": "code",
   "execution_count": 115,
   "metadata": {},
   "outputs": [],
   "source": [
    "# select the two columns we want. Features (which contains vectors), and the predictor.\n",
    "final_data = output.select(\"features\",'Dataset')"
   ]
  },
  {
   "cell_type": "code",
   "execution_count": 116,
   "metadata": {},
   "outputs": [],
   "source": [
    "# Split the training and testing set.\n",
    "train_data,test_data = final_data.randomSplit([0.7,0.3])"
   ]
  },
  {
   "cell_type": "code",
   "execution_count": 117,
   "metadata": {},
   "outputs": [],
   "source": [
    "# import the relevant classifiers. \n",
    "from pyspark.ml.classification import DecisionTreeClassifier,GBTClassifier,RandomForestClassifier\n",
    "from pyspark.ml import Pipeline"
   ]
  },
  {
   "cell_type": "code",
   "execution_count": 118,
   "metadata": {},
   "outputs": [],
   "source": [
    "# Use defaults to make the comparison \"fair\". This simplifies the comparison process.\n",
    "dtc = DecisionTreeClassifier(labelCol='Dataset',featuresCol='features')\n",
    "rfc = RandomForestClassifier(labelCol='Dataset',featuresCol='features')"
   ]
  },
  {
   "cell_type": "code",
   "execution_count": 119,
   "metadata": {},
   "outputs": [],
   "source": [
    "# Train the models (it's three models, so it might take some time).\n",
    "dtc_model = dtc.fit(train_data)\n",
    "rfc_model = rfc.fit(train_data)"
   ]
  },
  {
   "cell_type": "code",
   "execution_count": 120,
   "metadata": {},
   "outputs": [],
   "source": [
    "dtc_predictions = dtc_model.transform(test_data)\n",
    "rfc_predictions = rfc_model.transform(test_data)"
   ]
  },
  {
   "cell_type": "code",
   "execution_count": 121,
   "metadata": {},
   "outputs": [],
   "source": [
    "# Let's start off with binary classification.\n",
    "from pyspark.ml.evaluation import BinaryClassificationEvaluator\n",
    "\n",
    "# Note that the label column isn't named label, it's named PrivateIndex in this case.\n",
    "my_binary_eval = BinaryClassificationEvaluator(labelCol = 'Dataset')"
   ]
  },
  {
   "cell_type": "code",
   "execution_count": 127,
   "metadata": {},
   "outputs": [
    {
     "name": "stdout",
     "output_type": "stream",
     "text": [
      "DTC\n",
      "1.0\n",
      "RFC\n",
      "1.0\n"
     ]
    }
   ],
   "source": [
    "# This is the area under the curve. This indicates that the data is highly seperable.\n",
    "print(\"DTC\")\n",
    "print(my_binary_eval.evaluate(dtc_predictions))\n",
    "# RFC improves accuracy but also model complexity. RFC outperforms DTC in nearly every situation.\n",
    "print(\"RFC\")\n",
    "print(my_binary_eval.evaluate(rfc_predictions))"
   ]
  },
  {
   "cell_type": "code",
   "execution_count": 128,
   "metadata": {},
   "outputs": [],
   "source": [
    "# import the evaluator.\n",
    "from pyspark.ml.evaluation import MulticlassClassificationEvaluator"
   ]
  },
  {
   "cell_type": "code",
   "execution_count": 129,
   "metadata": {},
   "outputs": [],
   "source": [
    "# Select (prediction, true label) and compute test error. \n",
    "acc_evaluator = MulticlassClassificationEvaluator(labelCol=\"Dataset\", predictionCol=\"prediction\", metricName=\"accuracy\")"
   ]
  },
  {
   "cell_type": "code",
   "execution_count": 130,
   "metadata": {},
   "outputs": [],
   "source": [
    "dtc_acc = acc_evaluator.evaluate(dtc_predictions)\n",
    "rfc_acc = acc_evaluator.evaluate(rfc_predictions)"
   ]
  },
  {
   "cell_type": "code",
   "execution_count": 131,
   "metadata": {},
   "outputs": [
    {
     "name": "stdout",
     "output_type": "stream",
     "text": [
      "Here are the results!\n",
      "----------------------------------------\n",
      "A single decision tree has an accuracy of: 67.02%\n",
      "----------------------------------------\n",
      "A random forest ensemble has an accuracy of: 69.68%\n"
     ]
    }
   ],
   "source": [
    "# Let's do something a bit more complex in terms of printing, just so it's formatted nicer. \n",
    "print(\"Here are the results!\")\n",
    "print('-'*40)\n",
    "print('A single decision tree has an accuracy of: {0:2.2f}%'.format(dtc_acc*100))\n",
    "print('-'*40)\n",
    "print('A random forest ensemble has an accuracy of: {0:2.2f}%'.format(rfc_acc*100))"
   ]
  },
  {
   "cell_type": "code",
   "execution_count": null,
   "metadata": {},
   "outputs": [],
   "source": []
  },
  {
   "cell_type": "code",
   "execution_count": 132,
   "metadata": {},
   "outputs": [],
   "source": [
    "#The establishment of logistic regression model.\n",
    "from pyspark.ml.classification import LogisticRegression"
   ]
  },
  {
   "cell_type": "code",
   "execution_count": 133,
   "metadata": {},
   "outputs": [],
   "source": [
    "from pyspark.ml import Pipeline\n",
    "log_reg_fet = LogisticRegression(featuresCol='features',labelCol='Dataset')\n",
    "pipeline = Pipeline(stages=[assembler, log_reg_fet])\n",
    "train_fet_data, test_fet_data = data_ilp_temp_2.randomSplit([0.7,.3])\n",
    "fit_model = pipeline.fit(train_fet_data)\n",
    "results = fit_model.transform(data_ilp_temp_2)"
   ]
  },
  {
   "cell_type": "code",
   "execution_count": 134,
   "metadata": {},
   "outputs": [],
   "source": [
    "from pyspark.ml.evaluation import BinaryClassificationEvaluator"
   ]
  },
  {
   "cell_type": "code",
   "execution_count": 135,
   "metadata": {},
   "outputs": [],
   "source": [
    "eva = BinaryClassificationEvaluator(rawPredictionCol='prediction',\n",
    "                                       labelCol='Dataset')"
   ]
  },
  {
   "cell_type": "code",
   "execution_count": 136,
   "metadata": {},
   "outputs": [
    {
     "data": {
      "text/plain": [
       "1.0"
      ]
     },
     "execution_count": 136,
     "metadata": {},
     "output_type": "execute_result"
    }
   ],
   "source": [
    "AUC_num = eva.evaluate(results)\n",
    "AUC_num"
   ]
  },
  {
   "cell_type": "code",
   "execution_count": 137,
   "metadata": {},
   "outputs": [
    {
     "name": "stdout",
     "output_type": "stream",
     "text": [
      "Correct: 579\n",
      "Total Correct: 417\n"
     ]
    }
   ],
   "source": [
    "total_res = results.select('Dataset','prediction')\n",
    "\n",
    "corr_res = total_res.filter(total_res['Dataset'] == total_res['prediction'])\n",
    "\n",
    "countTR = total_res.count()\n",
    "print(\"Correct: \" + str(countTR))\n",
    "\n",
    "countTC = corr_res.count()\n",
    "print(\"Total Correct: \" + str(countTC)) "
   ]
  },
  {
   "cell_type": "code",
   "execution_count": 138,
   "metadata": {},
   "outputs": [
    {
     "data": {
      "text/plain": [
       "0.7202072538860104"
      ]
     },
     "execution_count": 138,
     "metadata": {},
     "output_type": "execute_result"
    }
   ],
   "source": [
    "#Forecast accuracy.\n",
    "countTC/countTR"
   ]
  },
  {
   "cell_type": "code",
   "execution_count": null,
   "metadata": {},
   "outputs": [],
   "source": []
  },
  {
   "cell_type": "code",
   "execution_count": null,
   "metadata": {},
   "outputs": [],
   "source": []
  }
 ],
 "metadata": {
  "kernelspec": {
   "display_name": "Python 3",
   "language": "python",
   "name": "python3"
  },
  "language_info": {
   "codemirror_mode": {
    "name": "ipython",
    "version": 3
   },
   "file_extension": ".py",
   "mimetype": "text/x-python",
   "name": "python",
   "nbconvert_exporter": "python",
   "pygments_lexer": "ipython3",
   "version": "3.5.2"
  }
 },
 "nbformat": 4,
 "nbformat_minor": 2
}
